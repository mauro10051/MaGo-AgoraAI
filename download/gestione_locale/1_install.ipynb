{
 "cells": [
  {
   "cell_type": "markdown",
   "id": "622e4efb-7c7b-4e4a-a421-419e1e59b86d",
   "metadata": {},
   "source": [
    "Sezione 1 Notebook preliminare serve per registrare il path di lavoro "
   ]
  },
  {
   "cell_type": "code",
   "execution_count": null,
   "id": "53395534-72b4-41ef-8593-17aef678c0a7",
   "metadata": {},
   "outputs": [],
   "source": [
    "import os\n",
    "import json\n",
    "from pathlib import Path\n",
    "import gradio as gr\n",
    "\n",
    "CONFIG_PATH = Path(os.getenv(\"APPDATA\")) / \"MaGo\" / \"config.json\"\n",
    "\n",
    "def save_project_path(project_path):\n",
    "    \"\"\"Salva il percorso nel file di configurazione\"\"\"\n",
    "    try:\n",
    "        project_path = Path(project_path).resolve()  # Converti in percorso assoluto\n",
    "        CONFIG_PATH.parent.mkdir(parents=True, exist_ok=True)\n",
    "        \n",
    "        with open(CONFIG_PATH, \"w\") as f:\n",
    "            json.dump({\"project_path\": str(project_path)}, f)\n",
    "        \n",
    "        return f\"✅ Installazione completata! Cartella impostata:\\n{project_path}\"\n",
    "    except Exception as e:\n",
    "        return f\"❌ Errore: {str(e)}\"\n",
    "\n",
    "# Interfaccia Gradio\n",
    "with gr.Blocks(title=\"Installazione Progetto\") as app:\n",
    "    gr.Markdown(\"## Configurazione iniziale\")\n",
    "    gr.Markdown(\"Seleziona la cartella dove hai estratto il progetto.\")\n",
    "    \n",
    "    with gr.Row():\n",
    "        path_input = gr.Textbox(label=\"Percorso cartella\", placeholder=\"C:/cartella/progetto\")\n",
    "        save_btn = gr.Button(\"Salva configurazione\")\n",
    "    \n",
    "    output = gr.Textbox(label=\"Stato installazione\")\n",
    "    save_btn.click(save_project_path, inputs=path_input, outputs=output)\n",
    "\n",
    "app.launch()"
   ]
  },
  {
   "cell_type": "code",
   "execution_count": null,
   "id": "df642057-0354-42df-b3e7-0c866eb725d8",
   "metadata": {},
   "outputs": [],
   "source": []
  },
  {
   "cell_type": "code",
   "execution_count": null,
   "id": "adedcede-b35b-4d62-9d27-760a6f55ce94",
   "metadata": {},
   "outputs": [],
   "source": []
  },
  {
   "cell_type": "code",
   "execution_count": null,
   "id": "e6d3e945-89a7-473d-a57a-5395c2cad336",
   "metadata": {},
   "outputs": [],
   "source": []
  }
 ],
 "metadata": {
  "kernelspec": {
   "display_name": "Python 3 (ipykernel)",
   "language": "python",
   "name": "python3"
  },
  "language_info": {
   "codemirror_mode": {
    "name": "ipython",
    "version": 3
   },
   "file_extension": ".py",
   "mimetype": "text/x-python",
   "name": "python",
   "nbconvert_exporter": "python",
   "pygments_lexer": "ipython3",
   "version": "3.10.16"
  }
 },
 "nbformat": 4,
 "nbformat_minor": 5
}
